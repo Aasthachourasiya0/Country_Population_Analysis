{
 "cells": [
  {
   "cell_type": "code",
   "execution_count": 1,
   "id": "622cd430-5fea-4c63-ac0d-06cf1f16b7ff",
   "metadata": {},
   "outputs": [
    {
     "name": "stdout",
     "output_type": "stream",
     "text": [
      "Collecting numpy\n",
      "  Using cached numpy-1.26.4-cp312-cp312-win_amd64.whl.metadata (61 kB)\n",
      "Using cached numpy-1.26.4-cp312-cp312-win_amd64.whl (15.5 MB)\n",
      "Installing collected packages: numpy\n",
      "Successfully installed numpy-1.26.4\n",
      "Note: you may need to restart the kernel to use updated packages.\n"
     ]
    }
   ],
   "source": [
    "pip install numpy"
   ]
  },
  {
   "cell_type": "code",
   "execution_count": 2,
   "id": "5e378816-7d05-4baa-9db1-115f1fe2de93",
   "metadata": {},
   "outputs": [
    {
     "name": "stdout",
     "output_type": "stream",
     "text": [
      "Collecting pandasNote: you may need to restart the kernel to use updated packages.\n",
      "\n",
      "  Using cached pandas-2.2.2-cp312-cp312-win_amd64.whl.metadata (19 kB)\n",
      "Requirement already satisfied: numpy>=1.26.0 in c:\\data_analytics\\country population eda (1960 - 2022)\\analysis\\lib\\site-packages (from pandas) (1.26.4)\n",
      "Requirement already satisfied: python-dateutil>=2.8.2 in c:\\data_analytics\\country population eda (1960 - 2022)\\analysis\\lib\\site-packages (from pandas) (2.9.0.post0)\n",
      "Collecting pytz>=2020.1 (from pandas)\n",
      "  Using cached pytz-2024.1-py2.py3-none-any.whl.metadata (22 kB)\n",
      "Collecting tzdata>=2022.7 (from pandas)\n",
      "  Using cached tzdata-2024.1-py2.py3-none-any.whl.metadata (1.4 kB)\n",
      "Requirement already satisfied: six>=1.5 in c:\\data_analytics\\country population eda (1960 - 2022)\\analysis\\lib\\site-packages (from python-dateutil>=2.8.2->pandas) (1.16.0)\n",
      "Using cached pandas-2.2.2-cp312-cp312-win_amd64.whl (11.5 MB)\n",
      "Using cached pytz-2024.1-py2.py3-none-any.whl (505 kB)\n",
      "Using cached tzdata-2024.1-py2.py3-none-any.whl (345 kB)\n",
      "Installing collected packages: pytz, tzdata, pandas\n",
      "Successfully installed pandas-2.2.2 pytz-2024.1 tzdata-2024.1\n"
     ]
    }
   ],
   "source": [
    "pip install pandas\n"
   ]
  },
  {
   "cell_type": "code",
   "execution_count": 3,
   "id": "8b23f362-342c-4ba9-83e3-f1274f18fbe1",
   "metadata": {},
   "outputs": [
    {
     "name": "stdout",
     "output_type": "stream",
     "text": [
      "Note: you may need to restart the kernel to use updated packages.Collecting matplotlib\n",
      "  Using cached matplotlib-3.9.0-cp312-cp312-win_amd64.whl.metadata (11 kB)\n",
      "Collecting contourpy>=1.0.1 (from matplotlib)\n",
      "  Using cached contourpy-1.2.1-cp312-cp312-win_amd64.whl.metadata (5.8 kB)\n",
      "Collecting cycler>=0.10 (from matplotlib)\n",
      "  Using cached cycler-0.12.1-py3-none-any.whl.metadata (3.8 kB)\n",
      "Collecting fonttools>=4.22.0 (from matplotlib)\n",
      "  Downloading fonttools-4.53.0-cp312-cp312-win_amd64.whl.metadata (165 kB)\n",
      "     ---------------------------------------- 0.0/165.5 kB ? eta -:--:--\n",
      "     ---- ----------------------------------- 20.5/165.5 kB ? eta -:--:--\n",
      "     ------ ------------------------------ 30.7/165.5 kB 325.1 kB/s eta 0:00:01\n",
      "     ----------- ------------------------- 51.2/165.5 kB 372.4 kB/s eta 0:00:01\n",
      "     ------------- ----------------------- 61.4/165.5 kB 326.1 kB/s eta 0:00:01\n",
      "     -------------------- ---------------- 92.2/165.5 kB 374.1 kB/s eta 0:00:01\n",
      "     -------------------- ---------------- 92.2/165.5 kB 374.1 kB/s eta 0:00:01\n",
      "     -------------------------- --------- 122.9/165.5 kB 423.5 kB/s eta 0:00:01\n",
      "     -------------------------- --------- 122.9/165.5 kB 423.5 kB/s eta 0:00:01\n",
      "     -------------------------- --------- 122.9/165.5 kB 423.5 kB/s eta 0:00:01\n",
      "     -----------------------------------  163.8/165.5 kB 338.3 kB/s eta 0:00:01\n",
      "     ------------------------------------ 165.5/165.5 kB 320.1 kB/s eta 0:00:00\n",
      "Collecting kiwisolver>=1.3.1 (from matplotlib)\n",
      "  Using cached kiwisolver-1.4.5-cp312-cp312-win_amd64.whl.metadata (6.5 kB)\n",
      "Requirement already satisfied: numpy>=1.23 in c:\\data_analytics\\country population eda (1960 - 2022)\\analysis\\lib\\site-packages (from matplotlib) (1.26.4)\n",
      "Requirement already satisfied: packaging>=20.0 in c:\\data_analytics\\country population eda (1960 - 2022)\\analysis\\lib\\site-packages (from matplotlib) (24.1)\n",
      "Collecting pillow>=8 (from matplotlib)\n",
      "  Using cached pillow-10.3.0-cp312-cp312-win_amd64.whl.metadata (9.4 kB)\n",
      "Collecting pyparsing>=2.3.1 (from matplotlib)\n",
      "  Using cached pyparsing-3.1.2-py3-none-any.whl.metadata (5.1 kB)\n",
      "Requirement already satisfied: python-dateutil>=2.7 in c:\\data_analytics\\country population eda (1960 - 2022)\\analysis\\lib\\site-packages (from matplotlib) (2.9.0.post0)\n",
      "Requirement already satisfied: six>=1.5 in c:\\data_analytics\\country population eda (1960 - 2022)\\analysis\\lib\\site-packages (from python-dateutil>=2.7->matplotlib) (1.16.0)\n",
      "Using cached matplotlib-3.9.0-cp312-cp312-win_amd64.whl (8.0 MB)\n",
      "Using cached contourpy-1.2.1-cp312-cp312-win_amd64.whl (189 kB)\n",
      "Using cached cycler-0.12.1-py3-none-any.whl (8.3 kB)\n",
      "Downloading fonttools-4.53.0-cp312-cp312-win_amd64.whl (2.2 MB)\n",
      "   ---------------------------------------- 0.0/2.2 MB ? eta -:--:--\n",
      "   - -------------------------------------- 0.1/2.2 MB 4.8 MB/s eta 0:00:01\n",
      "   -- ------------------------------------- 0.1/2.2 MB 1.3 MB/s eta 0:00:02\n",
      "   -- ------------------------------------- 0.2/2.2 MB 1.3 MB/s eta 0:00:02\n",
      "   --- ------------------------------------ 0.2/2.2 MB 1.2 MB/s eta 0:00:02\n",
      "   ---- ----------------------------------- 0.2/2.2 MB 1.1 MB/s eta 0:00:02\n",
      "   ----- ---------------------------------- 0.3/2.2 MB 1.0 MB/s eta 0:00:02\n",
      "   ----- ---------------------------------- 0.3/2.2 MB 1.0 MB/s eta 0:00:02\n",
      "   ------ --------------------------------- 0.4/2.2 MB 1.0 MB/s eta 0:00:02\n",
      "   ------ --------------------------------- 0.4/2.2 MB 1.0 MB/s eta 0:00:02\n",
      "   ------- -------------------------------- 0.4/2.2 MB 994.9 kB/s eta 0:00:02\n",
      "   -------- ------------------------------- 0.5/2.2 MB 973.2 kB/s eta 0:00:02\n",
      "   -------- ------------------------------- 0.5/2.2 MB 906.4 kB/s eta 0:00:02\n",
      "   --------- ------------------------------ 0.5/2.2 MB 844.7 kB/s eta 0:00:02\n",
      "   --------- ------------------------------ 0.5/2.2 MB 819.2 kB/s eta 0:00:03\n",
      "   ---------- ----------------------------- 0.6/2.2 MB 822.9 kB/s eta 0:00:02\n",
      "   ---------- ----------------------------- 0.6/2.2 MB 783.3 kB/s eta 0:00:03\n",
      "   ---------- ----------------------------- 0.6/2.2 MB 778.2 kB/s eta 0:00:03\n",
      "   ----------- ---------------------------- 0.6/2.2 MB 756.6 kB/s eta 0:00:03\n",
      "   ----------- ---------------------------- 0.7/2.2 MB 724.9 kB/s eta 0:00:03\n",
      "   ------------ --------------------------- 0.7/2.2 MB 721.9 kB/s eta 0:00:03\n",
      "   ------------ --------------------------- 0.7/2.2 MB 718.6 kB/s eta 0:00:03\n",
      "   ------------- -------------------------- 0.7/2.2 MB 706.2 kB/s eta 0:00:03\n",
      "   ------------- -------------------------- 0.7/2.2 MB 694.4 kB/s eta 0:00:03\n",
      "   -------------- ------------------------- 0.8/2.2 MB 692.6 kB/s eta 0:00:03\n",
      "   -------------- ------------------------- 0.8/2.2 MB 691.8 kB/s eta 0:00:03\n",
      "   -------------- ------------------------- 0.8/2.2 MB 690.9 kB/s eta 0:00:03\n",
      "   --------------- ------------------------ 0.8/2.2 MB 672.2 kB/s eta 0:00:03\n",
      "   --------------- ------------------------ 0.8/2.2 MB 655.5 kB/s eta 0:00:03\n",
      "   --------------- ------------------------ 0.9/2.2 MB 647.7 kB/s eta 0:00:03\n",
      "   ---------------- ----------------------- 0.9/2.2 MB 670.3 kB/s eta 0:00:02\n",
      "   ----------------- ---------------------- 1.0/2.2 MB 684.1 kB/s eta 0:00:02\n",
      "   ------------------ --------------------- 1.0/2.2 MB 676.2 kB/s eta 0:00:02\n",
      "   ------------------- -------------------- 1.1/2.2 MB 689.4 kB/s eta 0:00:02\n",
      "   ------------------- -------------------- 1.1/2.2 MB 681.8 kB/s eta 0:00:02\n",
      "   ------------------- -------------------- 1.1/2.2 MB 681.0 kB/s eta 0:00:02\n",
      "   --------------------- ------------------ 1.2/2.2 MB 698.7 kB/s eta 0:00:02\n",
      "   ---------------------- ----------------- 1.2/2.2 MB 715.5 kB/s eta 0:00:02\n",
      "   ----------------------- ---------------- 1.3/2.2 MB 725.6 kB/s eta 0:00:02\n",
      "   ------------------------ --------------- 1.3/2.2 MB 740.8 kB/s eta 0:00:02\n",
      "   ------------------------- -------------- 1.4/2.2 MB 760.8 kB/s eta 0:00:02\n",
      "   -------------------------- ------------- 1.5/2.2 MB 768.3 kB/s eta 0:00:01\n",
      "   ---------------------------- ----------- 1.6/2.2 MB 798.3 kB/s eta 0:00:01\n",
      "   ----------------------------- ---------- 1.6/2.2 MB 803.8 kB/s eta 0:00:01\n",
      "   ------------------------------ --------- 1.7/2.2 MB 810.4 kB/s eta 0:00:01\n",
      "   ------------------------------- -------- 1.7/2.2 MB 826.4 kB/s eta 0:00:01\n",
      "   --------------------------------- ------ 1.8/2.2 MB 847.0 kB/s eta 0:00:01\n",
      "   ---------------------------------- ----- 1.9/2.2 MB 852.2 kB/s eta 0:00:01\n",
      "   ----------------------------------- ---- 1.9/2.2 MB 861.7 kB/s eta 0:00:01\n",
      "   ----------------------------------- ---- 2.0/2.2 MB 863.5 kB/s eta 0:00:01\n",
      "   ------------------------------------- -- 2.1/2.2 MB 879.7 kB/s eta 0:00:01\n",
      "   -------------------------------------- - 2.1/2.2 MB 892.5 kB/s eta 0:00:01\n",
      "   ---------------------------------------  2.2/2.2 MB 900.5 kB/s eta 0:00:01\n",
      "   ---------------------------------------- 2.2/2.2 MB 889.7 kB/s eta 0:00:00\n",
      "Using cached kiwisolver-1.4.5-cp312-cp312-win_amd64.whl (56 kB)\n",
      "Using cached pillow-10.3.0-cp312-cp312-win_amd64.whl (2.5 MB)\n",
      "Using cached pyparsing-3.1.2-py3-none-any.whl (103 kB)\n",
      "Installing collected packages: pyparsing, pillow, kiwisolver, fonttools, cycler, contourpy, matplotlib\n",
      "Successfully installed contourpy-1.2.1 cycler-0.12.1 fonttools-4.53.0 kiwisolver-1.4.5 matplotlib-3.9.0 pillow-10.3.0 pyparsing-3.1.2\n",
      "\n"
     ]
    }
   ],
   "source": [
    "pip install matplotlib"
   ]
  },
  {
   "cell_type": "code",
   "execution_count": 1,
   "id": "4079a7c7-fa3e-4974-afb1-39e933becbf3",
   "metadata": {},
   "outputs": [
    {
     "name": "stdout",
     "output_type": "stream",
     "text": [
      "Requirement already satisfied: plotly in c:\\data_analytics\\country population eda (1960 - 2022)\\analysis\\lib\\site-packages (5.22.0)Note: you may need to restart the kernel to use updated packages.\n",
      "\n",
      "Requirement already satisfied: tenacity>=6.2.0 in c:\\data_analytics\\country population eda (1960 - 2022)\\analysis\\lib\\site-packages (from plotly) (8.3.0)\n",
      "Requirement already satisfied: packaging in c:\\data_analytics\\country population eda (1960 - 2022)\\analysis\\lib\\site-packages (from plotly) (24.1)\n"
     ]
    }
   ],
   "source": [
    "pip install plotly"
   ]
  },
  {
   "cell_type": "code",
   "execution_count": null,
   "id": "69c9ae7f",
   "metadata": {},
   "outputs": [],
   "source": []
  }
 ],
 "metadata": {
  "kernelspec": {
   "display_name": "Python 3 (ipykernel)",
   "language": "python",
   "name": "python3"
  },
  "language_info": {
   "codemirror_mode": {
    "name": "ipython",
    "version": 3
   },
   "file_extension": ".py",
   "mimetype": "text/x-python",
   "name": "python",
   "nbconvert_exporter": "python",
   "pygments_lexer": "ipython3",
   "version": "3.12.2"
  }
 },
 "nbformat": 4,
 "nbformat_minor": 5
}
